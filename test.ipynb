{
 "cells": [
  {
   "cell_type": "code",
   "execution_count": 1,
   "id": "973e6657",
   "metadata": {},
   "outputs": [],
   "source": [
    "import pandas as pd\n",
    "import numpy as np\n",
    "import librosa\n",
    "import os\n",
    "import matplotlib.pyplot as plt\n",
    "from PIL import Image"
   ]
  },
  {
   "cell_type": "code",
   "execution_count": 2,
   "id": "b99149f4",
   "metadata": {},
   "outputs": [],
   "source": [
    "# DATA PREP\n",
    "os.chdir('data')\n",
    "os.makedirs('orca_spectrogram')\n",
    "os.makedirs('noise_spectrogram')"
   ]
  },
  {
   "cell_type": "code",
   "execution_count": 3,
   "id": "e87c3b9c",
   "metadata": {},
   "outputs": [
    {
     "data": {
      "text/plain": [
       "(2216, 3)"
      ]
     },
     "execution_count": 3,
     "metadata": {},
     "output_type": "execute_result"
    }
   ],
   "source": [
    "orca_df = pd.read_csv(\"orca_data.csv\")\n",
    "noise_df = pd.read_csv(\"noise_data.csv\")\n",
    "noise_df.shape"
   ]
  },
  {
   "cell_type": "code",
   "execution_count": 6,
   "id": "f544cc73",
   "metadata": {},
   "outputs": [
    {
     "name": "stdout",
     "output_type": "stream",
     "text": [
      "/home/ajm76/OrcaSeis/data\r\n"
     ]
    }
   ],
   "source": [
    "!pwd"
   ]
  },
  {
   "cell_type": "code",
   "execution_count": 16,
   "id": "bf56a3e1",
   "metadata": {},
   "outputs": [],
   "source": [
    "# Create orca audio chunks, create and save spectrogram for each\n",
    "dir_path = '/home/ajm76/OrcaSeis/data'\n",
    "for index, row in orca_df.iterrows():\n",
    "    filename = row['wav_filename']\n",
    "    filepath = 'wav/' + filename\n",
    "    start_time = row['start_time_s']  # Keep in seconds\n",
    "    end_time = row['end_time_s']  # Keep in seconds\n",
    "    \n",
    "    # Load the original wav file\n",
    "    y, sr = librosa.load(filepath)\n",
    "\n",
    "    # Convert start and end times to sample indices\n",
    "    start_sample = int(start_time * sr)\n",
    "    end_sample = int(end_time * sr)\n",
    "\n",
    "    # Extract the chunk\n",
    "    chunk = y[start_sample:end_sample]\n",
    "        \n",
    "    # Generate a Short-Time Fourier Transform (STFT) spectrogram\n",
    "    D = librosa.stft(chunk)\n",
    "\n",
    "    # Convert amplitude spectrogram to dB-scaled spectrogram\n",
    "    S_db = librosa.amplitude_to_db(np.abs(D), ref=np.max)\n",
    "        \n",
    "    # Save the spectrogram as a NumPy array\n",
    "    np.save(os.path.join(dir_path, 'orca_spectrogram', str(index)+'.npy'), S_db) "
   ]
  },
  {
   "cell_type": "code",
   "execution_count": 17,
   "id": "e5594432",
   "metadata": {},
   "outputs": [
    {
     "name": "stderr",
     "output_type": "stream",
     "text": [
      "/home/jupyter_share/miniconda3/envs/seismo2/lib/python3.10/site-packages/librosa/core/spectrum.py:257: UserWarning: n_fft=2048 is too large for input signal of length=0\n",
      "  warnings.warn(\n",
      "/home/jupyter_share/miniconda3/envs/seismo2/lib/python3.10/site-packages/librosa/core/spectrum.py:257: UserWarning: n_fft=2048 is too large for input signal of length=512\n",
      "  warnings.warn(\n",
      "/home/jupyter_share/miniconda3/envs/seismo2/lib/python3.10/site-packages/librosa/core/spectrum.py:257: UserWarning: n_fft=2048 is too large for input signal of length=22\n",
      "  warnings.warn(\n",
      "/home/jupyter_share/miniconda3/envs/seismo2/lib/python3.10/site-packages/librosa/core/spectrum.py:257: UserWarning: n_fft=2048 is too large for input signal of length=11\n",
      "  warnings.warn(\n",
      "/home/jupyter_share/miniconda3/envs/seismo2/lib/python3.10/site-packages/librosa/core/spectrum.py:257: UserWarning: n_fft=2048 is too large for input signal of length=19\n",
      "  warnings.warn(\n",
      "/home/jupyter_share/miniconda3/envs/seismo2/lib/python3.10/site-packages/librosa/core/spectrum.py:257: UserWarning: n_fft=2048 is too large for input signal of length=2\n",
      "  warnings.warn(\n",
      "/home/jupyter_share/miniconda3/envs/seismo2/lib/python3.10/site-packages/librosa/core/spectrum.py:257: UserWarning: n_fft=2048 is too large for input signal of length=6\n",
      "  warnings.warn(\n",
      "/home/jupyter_share/miniconda3/envs/seismo2/lib/python3.10/site-packages/librosa/core/spectrum.py:257: UserWarning: n_fft=2048 is too large for input signal of length=12\n",
      "  warnings.warn(\n",
      "/home/jupyter_share/miniconda3/envs/seismo2/lib/python3.10/site-packages/librosa/core/spectrum.py:257: UserWarning: n_fft=2048 is too large for input signal of length=20\n",
      "  warnings.warn(\n",
      "/home/jupyter_share/miniconda3/envs/seismo2/lib/python3.10/site-packages/librosa/core/spectrum.py:257: UserWarning: n_fft=2048 is too large for input signal of length=1\n",
      "  warnings.warn(\n",
      "/home/jupyter_share/miniconda3/envs/seismo2/lib/python3.10/site-packages/librosa/core/spectrum.py:257: UserWarning: n_fft=2048 is too large for input signal of length=9\n",
      "  warnings.warn(\n",
      "/home/jupyter_share/miniconda3/envs/seismo2/lib/python3.10/site-packages/librosa/core/spectrum.py:257: UserWarning: n_fft=2048 is too large for input signal of length=13\n",
      "  warnings.warn(\n",
      "/home/jupyter_share/miniconda3/envs/seismo2/lib/python3.10/site-packages/librosa/core/spectrum.py:257: UserWarning: n_fft=2048 is too large for input signal of length=5\n",
      "  warnings.warn(\n",
      "/home/jupyter_share/miniconda3/envs/seismo2/lib/python3.10/site-packages/librosa/core/spectrum.py:257: UserWarning: n_fft=2048 is too large for input signal of length=14\n",
      "  warnings.warn(\n",
      "/home/jupyter_share/miniconda3/envs/seismo2/lib/python3.10/site-packages/librosa/core/spectrum.py:257: UserWarning: n_fft=2048 is too large for input signal of length=10\n",
      "  warnings.warn(\n",
      "/home/jupyter_share/miniconda3/envs/seismo2/lib/python3.10/site-packages/librosa/core/spectrum.py:257: UserWarning: n_fft=2048 is too large for input signal of length=8\n",
      "  warnings.warn(\n",
      "/home/jupyter_share/miniconda3/envs/seismo2/lib/python3.10/site-packages/librosa/core/spectrum.py:257: UserWarning: n_fft=2048 is too large for input signal of length=17\n",
      "  warnings.warn(\n",
      "/home/jupyter_share/miniconda3/envs/seismo2/lib/python3.10/site-packages/librosa/core/spectrum.py:257: UserWarning: n_fft=2048 is too large for input signal of length=16\n",
      "  warnings.warn(\n",
      "/home/jupyter_share/miniconda3/envs/seismo2/lib/python3.10/site-packages/librosa/core/spectrum.py:257: UserWarning: n_fft=2048 is too large for input signal of length=18\n",
      "  warnings.warn(\n",
      "/home/jupyter_share/miniconda3/envs/seismo2/lib/python3.10/site-packages/librosa/core/spectrum.py:257: UserWarning: n_fft=2048 is too large for input signal of length=7\n",
      "  warnings.warn(\n",
      "/home/jupyter_share/miniconda3/envs/seismo2/lib/python3.10/site-packages/librosa/core/spectrum.py:257: UserWarning: n_fft=2048 is too large for input signal of length=15\n",
      "  warnings.warn(\n",
      "/home/jupyter_share/miniconda3/envs/seismo2/lib/python3.10/site-packages/librosa/core/spectrum.py:257: UserWarning: n_fft=2048 is too large for input signal of length=21\n",
      "  warnings.warn(\n",
      "/home/jupyter_share/miniconda3/envs/seismo2/lib/python3.10/site-packages/librosa/core/spectrum.py:257: UserWarning: n_fft=2048 is too large for input signal of length=4\n",
      "  warnings.warn(\n",
      "/home/jupyter_share/miniconda3/envs/seismo2/lib/python3.10/site-packages/librosa/core/spectrum.py:257: UserWarning: n_fft=2048 is too large for input signal of length=63\n",
      "  warnings.warn(\n",
      "/home/jupyter_share/miniconda3/envs/seismo2/lib/python3.10/site-packages/librosa/core/spectrum.py:257: UserWarning: n_fft=2048 is too large for input signal of length=3\n",
      "  warnings.warn(\n",
      "/home/jupyter_share/miniconda3/envs/seismo2/lib/python3.10/site-packages/librosa/core/spectrum.py:257: UserWarning: n_fft=2048 is too large for input signal of length=31\n",
      "  warnings.warn(\n",
      "/home/jupyter_share/miniconda3/envs/seismo2/lib/python3.10/site-packages/librosa/core/spectrum.py:257: UserWarning: n_fft=2048 is too large for input signal of length=37\n",
      "  warnings.warn(\n",
      "/home/jupyter_share/miniconda3/envs/seismo2/lib/python3.10/site-packages/librosa/core/spectrum.py:257: UserWarning: n_fft=2048 is too large for input signal of length=32\n",
      "  warnings.warn(\n",
      "/home/jupyter_share/miniconda3/envs/seismo2/lib/python3.10/site-packages/librosa/core/spectrum.py:257: UserWarning: n_fft=2048 is too large for input signal of length=1111\n",
      "  warnings.warn(\n",
      "/home/jupyter_share/miniconda3/envs/seismo2/lib/python3.10/site-packages/librosa/core/spectrum.py:257: UserWarning: n_fft=2048 is too large for input signal of length=892\n",
      "  warnings.warn(\n",
      "/home/jupyter_share/miniconda3/envs/seismo2/lib/python3.10/site-packages/librosa/core/spectrum.py:257: UserWarning: n_fft=2048 is too large for input signal of length=86\n",
      "  warnings.warn(\n",
      "/home/jupyter_share/miniconda3/envs/seismo2/lib/python3.10/site-packages/librosa/core/spectrum.py:257: UserWarning: n_fft=2048 is too large for input signal of length=191\n",
      "  warnings.warn(\n",
      "/home/jupyter_share/miniconda3/envs/seismo2/lib/python3.10/site-packages/librosa/core/spectrum.py:257: UserWarning: n_fft=2048 is too large for input signal of length=25\n",
      "  warnings.warn(\n",
      "/home/jupyter_share/miniconda3/envs/seismo2/lib/python3.10/site-packages/librosa/core/spectrum.py:257: UserWarning: n_fft=2048 is too large for input signal of length=1112\n",
      "  warnings.warn(\n",
      "/home/jupyter_share/miniconda3/envs/seismo2/lib/python3.10/site-packages/librosa/core/spectrum.py:257: UserWarning: n_fft=2048 is too large for input signal of length=311\n",
      "  warnings.warn(\n",
      "/home/jupyter_share/miniconda3/envs/seismo2/lib/python3.10/site-packages/librosa/core/spectrum.py:257: UserWarning: n_fft=2048 is too large for input signal of length=1552\n",
      "  warnings.warn(\n",
      "/home/jupyter_share/miniconda3/envs/seismo2/lib/python3.10/site-packages/librosa/core/spectrum.py:257: UserWarning: n_fft=2048 is too large for input signal of length=1384\n",
      "  warnings.warn(\n",
      "/home/jupyter_share/miniconda3/envs/seismo2/lib/python3.10/site-packages/librosa/core/spectrum.py:257: UserWarning: n_fft=2048 is too large for input signal of length=1324\n",
      "  warnings.warn(\n",
      "/home/jupyter_share/miniconda3/envs/seismo2/lib/python3.10/site-packages/librosa/core/spectrum.py:257: UserWarning: n_fft=2048 is too large for input signal of length=1996\n",
      "  warnings.warn(\n",
      "/home/jupyter_share/miniconda3/envs/seismo2/lib/python3.10/site-packages/librosa/core/spectrum.py:257: UserWarning: n_fft=2048 is too large for input signal of length=123\n",
      "  warnings.warn(\n",
      "/home/jupyter_share/miniconda3/envs/seismo2/lib/python3.10/site-packages/librosa/core/spectrum.py:257: UserWarning: n_fft=2048 is too large for input signal of length=938\n",
      "  warnings.warn(\n"
     ]
    }
   ],
   "source": [
    "# Create noise audio chunks, create and save spectrogram for each\n",
    "dir_path = '/home/ajm76/OrcaSeis/data'\n",
    "for index, row in noise_df.iterrows():\n",
    "    filename = row['wav_filename']\n",
    "    filepath = 'wav/' + filename\n",
    "    start_time = row['start_time_s']  # Keep in seconds\n",
    "    end_time = row['end_time_s']  # Keep in seconds\n",
    "    \n",
    "    # Load the original wav file\n",
    "    y, sr = librosa.load(filepath)\n",
    "\n",
    "    # Convert start and end times to sample indices\n",
    "    start_sample = int(start_time * sr)\n",
    "    end_sample = int(end_time * sr)\n",
    "\n",
    "    # Extract the chunk\n",
    "    chunk = y[start_sample:end_sample]\n",
    "        \n",
    "    # Generate a Short-Time Fourier Transform (STFT) spectrogram\n",
    "    D = librosa.stft(chunk)\n",
    "\n",
    "    # Convert amplitude spectrogram to dB-scaled spectrogram\n",
    "    S_db = librosa.amplitude_to_db(np.abs(D), ref=np.max)\n",
    "        \n",
    "    # Save the spectrogram as a NumPy array\n",
    "    np.save(os.path.join(dir_path, 'noise_spectrogram', str(index)+'.npy'), S_db) "
   ]
  },
  {
   "cell_type": "code",
   "execution_count": 18,
   "id": "d03c7b6e",
   "metadata": {},
   "outputs": [],
   "source": [
    "# ML\n",
    "input_dir = \"/home/ajm76/OrcaSeis/data\"\n",
    "categories = ['noise', 'orca_call']"
   ]
  },
  {
   "cell_type": "code",
   "execution_count": 21,
   "id": "128791a4",
   "metadata": {},
   "outputs": [],
   "source": [
    "data = []\n",
    "labels = []\n",
    "for category_idx, category in enumerate(categories):\n",
    "    cat_path = \"\"\n",
    "    if category == 'noise':\n",
    "        cat_path = 'noise_spectrogram' # actual code\n",
    "#         cat_path = 'noise_test' # just for testing\n",
    "    else:\n",
    "        cat_path = 'orca_spectrogram' # actual code\n",
    "#         cat_path = 'orca_test'\n",
    "    for file in os.listdir(os.path.join(input_dir, cat_path)):\n",
    "        spectrogram = np.load(os.path.join(input_dir, cat_path, file))\n",
    "        data.append(spectrogram)\n",
    "        labels.append(category_idx)"
   ]
  },
  {
   "cell_type": "code",
   "execution_count": null,
   "id": "94fa5f0d",
   "metadata": {},
   "outputs": [],
   "source": [
    "# # Convert all elements to NumPy arrays if they aren't already\n",
    "# data = [np.array(spectrogram) for spectrogram in data]\n",
    "\n",
    "# # Determine the maximum shape for each dimension\n",
    "# max_shape = tuple(max(dim) for di/m in zip(*[spectrogram.shape for spectrogram in data]))\n",
    "\n",
    "# # Initialize a list to store the padded spectrograms\n",
    "# standardized_data = []\n",
    "\n",
    "# for spectrogram in data:\n",
    "#     # Pad spectrograms to match the maximum shape\n",
    "#     pad_widths = [(0, max_size - size) for size, max_size in zip(spectrogram.shape, max_shape)]\n",
    "#     padded_spectrogram = np.pad(spectrogram, pad_widths, mode='constant', constant_values=0)\n",
    "#     standardized_data.append(padded_spectrogram)\n",
    "\n",
    "# # Convert to a single NumPy array\n",
    "# data = np.array(standardized_data)\n",
    "\n",
    "# print(data.shape)"
   ]
  },
  {
   "cell_type": "code",
   "execution_count": null,
   "id": "2d59a7a2",
   "metadata": {},
   "outputs": [],
   "source": []
  }
 ],
 "metadata": {
  "kernelspec": {
   "display_name": "seismo 3.10 (SHARED)",
   "language": "python",
   "name": "seismo-py310-shared"
  },
  "language_info": {
   "codemirror_mode": {
    "name": "ipython",
    "version": 3
   },
   "file_extension": ".py",
   "mimetype": "text/x-python",
   "name": "python",
   "nbconvert_exporter": "python",
   "pygments_lexer": "ipython3",
   "version": "3.10.13"
  }
 },
 "nbformat": 4,
 "nbformat_minor": 5
}
