{
 "cells": [
  {
   "cell_type": "code",
   "execution_count": 6,
   "id": "5e4676f3",
   "metadata": {},
   "outputs": [],
   "source": [
    "import csv\n",
    "import pandas as pd"
   ]
  },
  {
   "cell_type": "code",
   "execution_count": 7,
   "id": "33833ffd",
   "metadata": {},
   "outputs": [],
   "source": [
    "# Merging data from 'annotations.tsv' & 'test.tsv' and saving it as \n",
    "# 'merged_annotations_test.csv' in data folder\n",
    "df1 = pd.read_csv('./data/annotations.tsv', sep='\\t')\n",
    "df2 = pd.read_csv('./data/test.tsv', sep='\\t')\n",
    "merged_df = pd.merge(df1, df2, on=['dataset', 'wav_filename', 'start_time_s', 'duration_s', \n",
    "                                   'location', 'date', 'pst_or_master_tape_identifier'], how='outer')\n",
    "merged_df.to_csv('./data/merged_annotations_test.csv', sep=',', index=False)"
   ]
  },
  {
   "cell_type": "code",
   "execution_count": null,
   "id": "51fe4365",
   "metadata": {},
   "outputs": [],
   "source": []
  }
 ],
 "metadata": {
  "kernelspec": {
   "display_name": "seismo 3.10 (SHARED)",
   "language": "python",
   "name": "seismo-py310-shared"
  },
  "language_info": {
   "codemirror_mode": {
    "name": "ipython",
    "version": 3
   },
   "file_extension": ".py",
   "mimetype": "text/x-python",
   "name": "python",
   "nbconvert_exporter": "python",
   "pygments_lexer": "ipython3",
   "version": "3.10.13"
  }
 },
 "nbformat": 4,
 "nbformat_minor": 5
}
