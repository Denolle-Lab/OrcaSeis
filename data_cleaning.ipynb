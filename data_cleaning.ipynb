{
 "cells": [
  {
   "cell_type": "code",
   "execution_count": 1,
   "id": "62b090cf",
   "metadata": {},
   "outputs": [],
   "source": [
    "import librosa\n",
    "import librosa.display\n",
    "import obspy\n",
    "import matplotlib.pyplot as plt\n",
    "import numpy as np\n",
    "import os\n",
    "import h5py\n",
    "import tsfel\n",
    "import pandas as pd\n",
    "import csv\n",
    "import wave"
   ]
  },
  {
   "cell_type": "code",
   "execution_count": 2,
   "id": "9ab49d26",
   "metadata": {},
   "outputs": [
    {
     "name": "stdout",
     "output_type": "stream",
     "text": [
      "./data/wav/OS_7_05_2019_08_24_00_.wav\n",
      "./data/wav/rpi-port-townsend_2019_11_14_14_28_00.wav\n"
     ]
    }
   ],
   "source": [
    "# getting wav_files_paths\n",
    "wav_files_paths = []\n",
    "\n",
    "# open the CSV file in read mode\n",
    "with open('wav_files_paths.csv', 'r') as file:\n",
    "    reader = csv.reader(file)\n",
    "    # Iterate through the rows in the CSV file\n",
    "    for row in reader:\n",
    "        # Append each row to the list\n",
    "        wav_files_paths.append(row[0])\n",
    "\n",
    "print(wav_files_paths[0])\n",
    "print(wav_files_paths[30])"
   ]
  },
  {
   "cell_type": "code",
   "execution_count": 3,
   "id": "1a35bf27",
   "metadata": {},
   "outputs": [
    {
     "data": {
      "text/html": [
       "<div>\n",
       "<style scoped>\n",
       "    .dataframe tbody tr th:only-of-type {\n",
       "        vertical-align: middle;\n",
       "    }\n",
       "\n",
       "    .dataframe tbody tr th {\n",
       "        vertical-align: top;\n",
       "    }\n",
       "\n",
       "    .dataframe thead th {\n",
       "        text-align: right;\n",
       "    }\n",
       "</style>\n",
       "<table border=\"1\" class=\"dataframe\">\n",
       "  <thead>\n",
       "    <tr style=\"text-align: right;\">\n",
       "      <th></th>\n",
       "      <th>dataset</th>\n",
       "      <th>wav_filename</th>\n",
       "      <th>start_time_s</th>\n",
       "      <th>duration_s</th>\n",
       "      <th>location</th>\n",
       "      <th>date</th>\n",
       "      <th>pst_or_master_tape_identifier</th>\n",
       "    </tr>\n",
       "  </thead>\n",
       "  <tbody>\n",
       "    <tr>\n",
       "      <th>0</th>\n",
       "      <td>podcast_round1</td>\n",
       "      <td>60012.wav</td>\n",
       "      <td>34.126</td>\n",
       "      <td>2.918</td>\n",
       "      <td>Dabob Bay, Seattle, Washington</td>\n",
       "      <td>1960-10-28</td>\n",
       "      <td>60012</td>\n",
       "    </tr>\n",
       "    <tr>\n",
       "      <th>1</th>\n",
       "      <td>podcast_round1</td>\n",
       "      <td>60012.wav</td>\n",
       "      <td>36.816</td>\n",
       "      <td>2.588</td>\n",
       "      <td>Dabob Bay, Seattle, Washington</td>\n",
       "      <td>1960-10-28</td>\n",
       "      <td>60012</td>\n",
       "    </tr>\n",
       "    <tr>\n",
       "      <th>2</th>\n",
       "      <td>podcast_round1</td>\n",
       "      <td>60012.wav</td>\n",
       "      <td>42.550</td>\n",
       "      <td>2.055</td>\n",
       "      <td>Dabob Bay, Seattle, Washington</td>\n",
       "      <td>1960-10-28</td>\n",
       "      <td>60012</td>\n",
       "    </tr>\n",
       "    <tr>\n",
       "      <th>3</th>\n",
       "      <td>podcast_round1</td>\n",
       "      <td>60012.wav</td>\n",
       "      <td>44.606</td>\n",
       "      <td>2.410</td>\n",
       "      <td>Dabob Bay, Seattle, Washington</td>\n",
       "      <td>1960-10-28</td>\n",
       "      <td>60012</td>\n",
       "    </tr>\n",
       "    <tr>\n",
       "      <th>4</th>\n",
       "      <td>podcast_round1</td>\n",
       "      <td>60012.wav</td>\n",
       "      <td>46.636</td>\n",
       "      <td>3.425</td>\n",
       "      <td>Dabob Bay, Seattle, Washington</td>\n",
       "      <td>1960-10-28</td>\n",
       "      <td>60012</td>\n",
       "    </tr>\n",
       "  </tbody>\n",
       "</table>\n",
       "</div>"
      ],
      "text/plain": [
       "          dataset wav_filename  start_time_s  duration_s  \\\n",
       "0  podcast_round1    60012.wav        34.126       2.918   \n",
       "1  podcast_round1    60012.wav        36.816       2.588   \n",
       "2  podcast_round1    60012.wav        42.550       2.055   \n",
       "3  podcast_round1    60012.wav        44.606       2.410   \n",
       "4  podcast_round1    60012.wav        46.636       3.425   \n",
       "\n",
       "                         location        date pst_or_master_tape_identifier  \n",
       "0  Dabob Bay, Seattle, Washington  1960-10-28                         60012  \n",
       "1  Dabob Bay, Seattle, Washington  1960-10-28                         60012  \n",
       "2  Dabob Bay, Seattle, Washington  1960-10-28                         60012  \n",
       "3  Dabob Bay, Seattle, Washington  1960-10-28                         60012  \n",
       "4  Dabob Bay, Seattle, Washington  1960-10-28                         60012  "
      ]
     },
     "execution_count": 3,
     "metadata": {},
     "output_type": "execute_result"
    }
   ],
   "source": [
    "# converting annotations.tsv into df\n",
    "annotations_file_path = './data/annotations.tsv'\n",
    "df = pd.read_csv(annotations_file_path, sep='\\t')\n",
    "df.head()"
   ]
  },
  {
   "cell_type": "code",
   "execution_count": 4,
   "id": "79eece72",
   "metadata": {},
   "outputs": [
    {
     "name": "stdout",
     "output_type": "stream",
     "text": [
      "2863\n"
     ]
    }
   ],
   "source": [
    "# find number of unique filenames in annotations.tsv\n",
    "num_unique_filenames = df['wav_filename'].nunique()\n",
    "print(num_unique_filenames)"
   ]
  },
  {
   "cell_type": "code",
   "execution_count": 5,
   "id": "bedb8613",
   "metadata": {},
   "outputs": [
    {
     "name": "stdout",
     "output_type": "stream",
     "text": [
      "2976\r\n"
     ]
    }
   ],
   "source": [
    "# find number of unique filenames in wav directory\n",
    "!find ./data/wav -type f | wc -l\n",
    "\n",
    "# since num wav files > num filenames in annotations.tsv, I will iterate through the\n",
    "# ones in annotations.tsv"
   ]
  },
  {
   "cell_type": "code",
   "execution_count": 6,
   "id": "0012335a",
   "metadata": {},
   "outputs": [
    {
     "name": "stdout",
     "output_type": "stream",
     "text": [
      "[]\n"
     ]
    }
   ],
   "source": [
    "# Remove rows from df where the filename doesn't correspond to an actual wav file\n",
    "indices_to_drop = []\n",
    "file_path = \"data/wav/\"\n",
    "for index, row in df.iterrows():\n",
    "    filename = df.loc[index, 'wav_filename']\n",
    "    if not os.path.isfile(file_path + filename):\n",
    "        indices_to_drop.append(index)\n",
    "\n",
    "print(indices_to_drop)\n",
    "df = df.drop(indices_to_drop)"
   ]
  },
  {
   "cell_type": "code",
   "execution_count": 7,
   "id": "d74440fb",
   "metadata": {},
   "outputs": [
    {
     "name": "stderr",
     "output_type": "stream",
     "text": [
      "/tmp/ipykernel_1779412/2355072858.py:7: SettingWithCopyWarning: \n",
      "A value is trying to be set on a copy of a slice from a DataFrame.\n",
      "Try using .loc[row_indexer,col_indexer] = value instead\n",
      "\n",
      "See the caveats in the documentation: https://pandas.pydata.org/pandas-docs/stable/user_guide/indexing.html#returning-a-view-versus-a-copy\n",
      "  orca_call_df['end_time_s'] = df['start_time_s'] + df['duration_s']\n"
     ]
    },
    {
     "data": {
      "text/html": [
       "<div>\n",
       "<style scoped>\n",
       "    .dataframe tbody tr th:only-of-type {\n",
       "        vertical-align: middle;\n",
       "    }\n",
       "\n",
       "    .dataframe tbody tr th {\n",
       "        vertical-align: top;\n",
       "    }\n",
       "\n",
       "    .dataframe thead th {\n",
       "        text-align: right;\n",
       "    }\n",
       "</style>\n",
       "<table border=\"1\" class=\"dataframe\">\n",
       "  <thead>\n",
       "    <tr style=\"text-align: right;\">\n",
       "      <th></th>\n",
       "      <th>wav_filename</th>\n",
       "      <th>start_time_s</th>\n",
       "      <th>end_time_s</th>\n",
       "    </tr>\n",
       "  </thead>\n",
       "  <tbody>\n",
       "    <tr>\n",
       "      <th>0</th>\n",
       "      <td>60012.wav</td>\n",
       "      <td>34.126</td>\n",
       "      <td>37.044</td>\n",
       "    </tr>\n",
       "    <tr>\n",
       "      <th>1</th>\n",
       "      <td>60012.wav</td>\n",
       "      <td>36.816</td>\n",
       "      <td>39.404</td>\n",
       "    </tr>\n",
       "    <tr>\n",
       "      <th>2</th>\n",
       "      <td>60012.wav</td>\n",
       "      <td>42.550</td>\n",
       "      <td>44.605</td>\n",
       "    </tr>\n",
       "    <tr>\n",
       "      <th>3</th>\n",
       "      <td>60012.wav</td>\n",
       "      <td>44.606</td>\n",
       "      <td>47.016</td>\n",
       "    </tr>\n",
       "    <tr>\n",
       "      <th>4</th>\n",
       "      <td>60012.wav</td>\n",
       "      <td>46.636</td>\n",
       "      <td>50.061</td>\n",
       "    </tr>\n",
       "    <tr>\n",
       "      <th>...</th>\n",
       "      <td>...</td>\n",
       "      <td>...</td>\n",
       "      <td>...</td>\n",
       "    </tr>\n",
       "    <tr>\n",
       "      <th>5532</th>\n",
       "      <td>rpi-port-townsend_2020_09_08_14_55_00.wav</td>\n",
       "      <td>0.000</td>\n",
       "      <td>0.000</td>\n",
       "    </tr>\n",
       "    <tr>\n",
       "      <th>5533</th>\n",
       "      <td>rpi-port-townsend_2020_09_08_14_28_00.wav</td>\n",
       "      <td>0.000</td>\n",
       "      <td>0.000</td>\n",
       "    </tr>\n",
       "    <tr>\n",
       "      <th>5534</th>\n",
       "      <td>rpi-port-townsend_2020_10_08_02_25_00.wav</td>\n",
       "      <td>0.000</td>\n",
       "      <td>0.000</td>\n",
       "    </tr>\n",
       "    <tr>\n",
       "      <th>5535</th>\n",
       "      <td>rpi-port-townsend_2020_09_08_15_30_00.wav</td>\n",
       "      <td>0.000</td>\n",
       "      <td>0.000</td>\n",
       "    </tr>\n",
       "    <tr>\n",
       "      <th>5536</th>\n",
       "      <td>rpi-port-townsend_2020_10_08_02_29_00.wav</td>\n",
       "      <td>0.000</td>\n",
       "      <td>0.000</td>\n",
       "    </tr>\n",
       "  </tbody>\n",
       "</table>\n",
       "<p>5537 rows × 3 columns</p>\n",
       "</div>"
      ],
      "text/plain": [
       "                                   wav_filename  start_time_s  end_time_s\n",
       "0                                     60012.wav        34.126      37.044\n",
       "1                                     60012.wav        36.816      39.404\n",
       "2                                     60012.wav        42.550      44.605\n",
       "3                                     60012.wav        44.606      47.016\n",
       "4                                     60012.wav        46.636      50.061\n",
       "...                                         ...           ...         ...\n",
       "5532  rpi-port-townsend_2020_09_08_14_55_00.wav         0.000       0.000\n",
       "5533  rpi-port-townsend_2020_09_08_14_28_00.wav         0.000       0.000\n",
       "5534  rpi-port-townsend_2020_10_08_02_25_00.wav         0.000       0.000\n",
       "5535  rpi-port-townsend_2020_09_08_15_30_00.wav         0.000       0.000\n",
       "5536  rpi-port-townsend_2020_10_08_02_29_00.wav         0.000       0.000\n",
       "\n",
       "[5537 rows x 3 columns]"
      ]
     },
     "execution_count": 7,
     "metadata": {},
     "output_type": "execute_result"
    }
   ],
   "source": [
    "# create orca_call_df which has cols wav_filename, start_time_s, end_time_s\n",
    "\n",
    "# create new df with cols wav_filename, start_time_s as cols\n",
    "orca_call_df = df[['wav_filename', 'start_time_s']]\n",
    "\n",
    "# add end_time_s col by adding duration_s to start_time_s\n",
    "orca_call_df['end_time_s'] = df['start_time_s'] + df['duration_s']\n",
    "\n",
    "orca_call_df"
   ]
  },
  {
   "cell_type": "code",
   "execution_count": 8,
   "id": "e6a25aac",
   "metadata": {},
   "outputs": [],
   "source": [
    "# REMOVE DATA WHERE OVERLAPPING WHALE CALLS IN SAME AUDIO FILES\n",
    "# functions to help removes all rows from df that have given filename\n",
    "def remove_filenames(df, filenames_list):\n",
    "  for filename in filenames_list:\n",
    "    df = remove_filename(df, filename)\n",
    "  return df\n",
    "\n",
    "def remove_filename(df, filename):\n",
    "  df = df.reset_index(drop=True)\n",
    "  df = df[df['wav_filename'] != filename]\n",
    "  return df\n",
    "\n",
    "def find_rows_to_be_deleted(df):\n",
    "    to_drop_filename = []\n",
    "    for i in range(len(df) - 1):\n",
    "        if (df.loc[i, 'wav_filename'] == df.loc[i + 1, 'wav_filename'] and \n",
    "            df.loc[i, 'end_time_s'] > df.loc[i + 1, 'start_time_s']):\n",
    "          to_drop_filename.append(df.loc[i, 'wav_filename'])\n",
    "    return to_drop_filename"
   ]
  },
  {
   "cell_type": "code",
   "execution_count": 9,
   "id": "d7a261c8",
   "metadata": {},
   "outputs": [
    {
     "data": {
      "text/html": [
       "<div>\n",
       "<style scoped>\n",
       "    .dataframe tbody tr th:only-of-type {\n",
       "        vertical-align: middle;\n",
       "    }\n",
       "\n",
       "    .dataframe tbody tr th {\n",
       "        vertical-align: top;\n",
       "    }\n",
       "\n",
       "    .dataframe thead th {\n",
       "        text-align: right;\n",
       "    }\n",
       "</style>\n",
       "<table border=\"1\" class=\"dataframe\">\n",
       "  <thead>\n",
       "    <tr style=\"text-align: right;\">\n",
       "      <th></th>\n",
       "      <th>wav_filename</th>\n",
       "      <th>start_time_s</th>\n",
       "      <th>end_time_s</th>\n",
       "    </tr>\n",
       "  </thead>\n",
       "  <tbody>\n",
       "    <tr>\n",
       "      <th>0</th>\n",
       "      <td>92303001.wav</td>\n",
       "      <td>0.0</td>\n",
       "      <td>1.059</td>\n",
       "    </tr>\n",
       "    <tr>\n",
       "      <th>1</th>\n",
       "      <td>92303002.wav</td>\n",
       "      <td>0.0</td>\n",
       "      <td>1.107</td>\n",
       "    </tr>\n",
       "    <tr>\n",
       "      <th>2</th>\n",
       "      <td>92303003.wav</td>\n",
       "      <td>0.0</td>\n",
       "      <td>1.306</td>\n",
       "    </tr>\n",
       "    <tr>\n",
       "      <th>3</th>\n",
       "      <td>92303004.wav</td>\n",
       "      <td>0.0</td>\n",
       "      <td>1.466</td>\n",
       "    </tr>\n",
       "    <tr>\n",
       "      <th>4</th>\n",
       "      <td>92303005.wav</td>\n",
       "      <td>0.0</td>\n",
       "      <td>2.026</td>\n",
       "    </tr>\n",
       "    <tr>\n",
       "      <th>...</th>\n",
       "      <td>...</td>\n",
       "      <td>...</td>\n",
       "      <td>...</td>\n",
       "    </tr>\n",
       "    <tr>\n",
       "      <th>2992</th>\n",
       "      <td>rpi-port-townsend_2020_09_08_14_55_00.wav</td>\n",
       "      <td>0.0</td>\n",
       "      <td>0.000</td>\n",
       "    </tr>\n",
       "    <tr>\n",
       "      <th>2993</th>\n",
       "      <td>rpi-port-townsend_2020_09_08_14_28_00.wav</td>\n",
       "      <td>0.0</td>\n",
       "      <td>0.000</td>\n",
       "    </tr>\n",
       "    <tr>\n",
       "      <th>2994</th>\n",
       "      <td>rpi-port-townsend_2020_10_08_02_25_00.wav</td>\n",
       "      <td>0.0</td>\n",
       "      <td>0.000</td>\n",
       "    </tr>\n",
       "    <tr>\n",
       "      <th>2995</th>\n",
       "      <td>rpi-port-townsend_2020_09_08_15_30_00.wav</td>\n",
       "      <td>0.0</td>\n",
       "      <td>0.000</td>\n",
       "    </tr>\n",
       "    <tr>\n",
       "      <th>2996</th>\n",
       "      <td>rpi-port-townsend_2020_10_08_02_29_00.wav</td>\n",
       "      <td>0.0</td>\n",
       "      <td>0.000</td>\n",
       "    </tr>\n",
       "  </tbody>\n",
       "</table>\n",
       "<p>2997 rows × 3 columns</p>\n",
       "</div>"
      ],
      "text/plain": [
       "                                   wav_filename  start_time_s  end_time_s\n",
       "0                                  92303001.wav           0.0       1.059\n",
       "1                                  92303002.wav           0.0       1.107\n",
       "2                                  92303003.wav           0.0       1.306\n",
       "3                                  92303004.wav           0.0       1.466\n",
       "4                                  92303005.wav           0.0       2.026\n",
       "...                                         ...           ...         ...\n",
       "2992  rpi-port-townsend_2020_09_08_14_55_00.wav           0.0       0.000\n",
       "2993  rpi-port-townsend_2020_09_08_14_28_00.wav           0.0       0.000\n",
       "2994  rpi-port-townsend_2020_10_08_02_25_00.wav           0.0       0.000\n",
       "2995  rpi-port-townsend_2020_09_08_15_30_00.wav           0.0       0.000\n",
       "2996  rpi-port-townsend_2020_10_08_02_29_00.wav           0.0       0.000\n",
       "\n",
       "[2997 rows x 3 columns]"
      ]
     },
     "execution_count": 9,
     "metadata": {},
     "output_type": "execute_result"
    }
   ],
   "source": [
    "to_drop_filename = find_rows_to_be_deleted(orca_call_df)\n",
    "orca_call_df = remove_filenames(orca_call_df, to_drop_filename)\n",
    "orca_call_df"
   ]
  },
  {
   "cell_type": "code",
   "execution_count": 10,
   "id": "81b10068",
   "metadata": {},
   "outputs": [
    {
     "data": {
      "text/plain": [
       "(2416, 3)"
      ]
     },
     "execution_count": 10,
     "metadata": {},
     "output_type": "execute_result"
    }
   ],
   "source": [
    "# REMOVE DATA WHERE START_TIME_S = END_TIME_S = 0\n",
    "orca_call_df = orca_call_df[~((orca_call_df['start_time_s'] == 0) & (orca_call_df['end_time_s'] == 0))]\n",
    "orca_call_df.shape"
   ]
  },
  {
   "cell_type": "code",
   "execution_count": 11,
   "id": "db62553d",
   "metadata": {},
   "outputs": [
    {
     "name": "stdout",
     "output_type": "stream",
     "text": [
      "59\n"
     ]
    }
   ],
   "source": [
    "# REMOVE DATA WHERE END_TIME_S > LENGTH OF AUDIO FILE\n",
    "filenames_to_be_removed = []\n",
    "for index, row in orca_call_df.iterrows():\n",
    "    filename = row['wav_filename']\n",
    "    filepath = 'data/wav/' + filename\n",
    "    if not os.path.isfile(filepath):\n",
    "        print(f\"File not found: {filepath}\")\n",
    "        continue\n",
    "    start_time = row['start_time_s']  # Keep in seconds\n",
    "    end_time = row['end_time_s']  # Keep in seconds\n",
    "    audio, sr = librosa.load(filepath)\n",
    "    audio_length = len(audio) / sr\n",
    "    if end_time > audio_length:\n",
    "        filenames_to_be_removed.append(filename)\n",
    "        \n",
    "print(len(filenames_to_be_removed))"
   ]
  },
  {
   "cell_type": "code",
   "execution_count": 12,
   "id": "9d4b3adf",
   "metadata": {},
   "outputs": [
    {
     "data": {
      "text/plain": [
       "(2347, 3)"
      ]
     },
     "execution_count": 12,
     "metadata": {},
     "output_type": "execute_result"
    }
   ],
   "source": [
    "orca_call_df = orca_call_df[~orca_call_df['wav_filename'].isin(filenames_to_be_removed)]\n",
    "orca_call_df.shape"
   ]
  },
  {
   "cell_type": "code",
   "execution_count": 13,
   "id": "6ce845dd",
   "metadata": {},
   "outputs": [],
   "source": [
    "# CREATING NOISE_DF\n",
    "# create wav_filenames_len_dict which contains wav_filename and total_length\n",
    "directory = './data/wav'\n",
    "\n",
    "# initialize lists to store filenames and lengths\n",
    "filenames = []\n",
    "lengths = []\n",
    "\n",
    "# iterate over all files in the directory\n",
    "for filename in os.listdir(directory):\n",
    "    if filename.endswith('.wav'):\n",
    "        file_path = os.path.join(directory, filename)\n",
    "        \n",
    "        # load wav file\n",
    "        y, sr = librosa.load(file_path, sr=None)\n",
    "        # calculate length in seconds\n",
    "        length = librosa.get_duration(y=y, sr=sr)\n",
    "        \n",
    "        # append the filename and length to the lists\n",
    "        filenames.append(filename)\n",
    "        lengths.append(length)\n",
    "\n",
    "# creating dict where keys are wav_filenames and values are total_lengths\n",
    "wav_filenames_len_dict = dict(zip(filenames, lengths))"
   ]
  },
  {
   "cell_type": "code",
   "execution_count": 14,
   "id": "c010fc86",
   "metadata": {},
   "outputs": [
    {
     "name": "stdout",
     "output_type": "stream",
     "text": [
      "2975\n"
     ]
    }
   ],
   "source": [
    "print(len(wav_filenames_len_dict))"
   ]
  },
  {
   "cell_type": "code",
   "execution_count": 15,
   "id": "f0851e8d",
   "metadata": {},
   "outputs": [],
   "source": [
    "noise_df = pd.DataFrame()"
   ]
  },
  {
   "cell_type": "code",
   "execution_count": 16,
   "id": "1e454476",
   "metadata": {},
   "outputs": [
    {
     "data": {
      "text/html": [
       "<div>\n",
       "<style scoped>\n",
       "    .dataframe tbody tr th:only-of-type {\n",
       "        vertical-align: middle;\n",
       "    }\n",
       "\n",
       "    .dataframe tbody tr th {\n",
       "        vertical-align: top;\n",
       "    }\n",
       "\n",
       "    .dataframe thead th {\n",
       "        text-align: right;\n",
       "    }\n",
       "</style>\n",
       "<table border=\"1\" class=\"dataframe\">\n",
       "  <thead>\n",
       "    <tr style=\"text-align: right;\">\n",
       "      <th></th>\n",
       "      <th>wav_filename</th>\n",
       "      <th>start_time_s</th>\n",
       "      <th>end_time_s</th>\n",
       "    </tr>\n",
       "  </thead>\n",
       "  <tbody>\n",
       "    <tr>\n",
       "      <th>0</th>\n",
       "      <td>1562337136_0010.wav</td>\n",
       "      <td>0.000000</td>\n",
       "      <td>14.451172</td>\n",
       "    </tr>\n",
       "    <tr>\n",
       "      <th>1</th>\n",
       "      <td>1562337136_0010.wav</td>\n",
       "      <td>16.221680</td>\n",
       "      <td>47.755859</td>\n",
       "    </tr>\n",
       "    <tr>\n",
       "      <th>2</th>\n",
       "      <td>1562337136_0010.wav</td>\n",
       "      <td>49.765625</td>\n",
       "      <td>56.895508</td>\n",
       "    </tr>\n",
       "    <tr>\n",
       "      <th>3</th>\n",
       "      <td>1562337136_0010.wav</td>\n",
       "      <td>59.240234</td>\n",
       "      <td>61.250000</td>\n",
       "    </tr>\n",
       "    <tr>\n",
       "      <th>4</th>\n",
       "      <td>1562337136_0012.wav</td>\n",
       "      <td>0.000000</td>\n",
       "      <td>31.508298</td>\n",
       "    </tr>\n",
       "    <tr>\n",
       "      <th>...</th>\n",
       "      <td>...</td>\n",
       "      <td>...</td>\n",
       "      <td>...</td>\n",
       "    </tr>\n",
       "    <tr>\n",
       "      <th>2211</th>\n",
       "      <td>rpi-port-townsend_2020_09_29_19_33_00.wav</td>\n",
       "      <td>7.126267</td>\n",
       "      <td>7.735750</td>\n",
       "    </tr>\n",
       "    <tr>\n",
       "      <th>2212</th>\n",
       "      <td>rpi-port-townsend_2020_09_29_19_33_00.wav</td>\n",
       "      <td>9.235750</td>\n",
       "      <td>28.505067</td>\n",
       "    </tr>\n",
       "    <tr>\n",
       "      <th>2213</th>\n",
       "      <td>rpi-port-townsend_2020_09_29_19_33_00.wav</td>\n",
       "      <td>30.802083</td>\n",
       "      <td>37.412900</td>\n",
       "    </tr>\n",
       "    <tr>\n",
       "      <th>2214</th>\n",
       "      <td>rpi-port-townsend_2020_09_29_19_33_00.wav</td>\n",
       "      <td>38.912900</td>\n",
       "      <td>40.600967</td>\n",
       "    </tr>\n",
       "    <tr>\n",
       "      <th>2215</th>\n",
       "      <td>rpi-port-townsend_2020_09_29_19_33_00.wav</td>\n",
       "      <td>42.382533</td>\n",
       "      <td>60.010667</td>\n",
       "    </tr>\n",
       "  </tbody>\n",
       "</table>\n",
       "<p>2216 rows × 3 columns</p>\n",
       "</div>"
      ],
      "text/plain": [
       "                                   wav_filename  start_time_s  end_time_s\n",
       "0                           1562337136_0010.wav      0.000000   14.451172\n",
       "1                           1562337136_0010.wav     16.221680   47.755859\n",
       "2                           1562337136_0010.wav     49.765625   56.895508\n",
       "3                           1562337136_0010.wav     59.240234   61.250000\n",
       "4                           1562337136_0012.wav      0.000000   31.508298\n",
       "...                                         ...           ...         ...\n",
       "2211  rpi-port-townsend_2020_09_29_19_33_00.wav      7.126267    7.735750\n",
       "2212  rpi-port-townsend_2020_09_29_19_33_00.wav      9.235750   28.505067\n",
       "2213  rpi-port-townsend_2020_09_29_19_33_00.wav     30.802083   37.412900\n",
       "2214  rpi-port-townsend_2020_09_29_19_33_00.wav     38.912900   40.600967\n",
       "2215  rpi-port-townsend_2020_09_29_19_33_00.wav     42.382533   60.010667\n",
       "\n",
       "[2216 rows x 3 columns]"
      ]
     },
     "execution_count": 16,
     "metadata": {},
     "output_type": "execute_result"
    }
   ],
   "source": [
    "for wav_filename in wav_filenames_len_dict:\n",
    "    if wav_filename in orca_call_df['wav_filename'].values:\n",
    "        # create df with only rows of orca_call_df\n",
    "        times_df = orca_call_df[orca_call_df['wav_filename'] == wav_filename][['start_time_s', 'end_time_s']]\n",
    "        times_df = times_df.sort_values(by='start_time_s')\n",
    "        times = []\n",
    "        # fills times list with times in times_df\n",
    "        for index, row in times_df.iterrows():\n",
    "          times.append(row['start_time_s'])\n",
    "          times.append(row['end_time_s'])\n",
    "        # add 0 or length of audio file if necessary\n",
    "        noise_start_index = 1\n",
    "        # adding 0 if necessary:\n",
    "        if times[0] != 0: # if whale call doesn't start at 0s\n",
    "            times.insert(0, 0)\n",
    "            noise_start_index = 0\n",
    "        # adding length of audio file if necessary\n",
    "        if times[len(times)-1] != wav_filenames_len_dict[wav_filename]: # if whale call doesn't end when the wav file ends\n",
    "            length = wav_filenames_len_dict[wav_filename]\n",
    "            times.insert(len(times), length)\n",
    "        # populate noise_df\n",
    "        if noise_start_index == 0:\n",
    "            while len(times) > 1: # times is not empty\n",
    "                new_row = {'wav_filename': wav_filename, 'start_time_s': times[0], 'end_time_s': times[1]}\n",
    "                times.pop(0)\n",
    "                times.pop(0)\n",
    "                noise_df = pd.concat([noise_df, pd.DataFrame([new_row])], ignore_index=True)\n",
    "        else: # noise_start_index = 1 eg: [0, 3.6, 4.0, 6.0, 7.7, 10]\n",
    "            times.pop(0)\n",
    "            while len(times) > 1: # times is not empty\n",
    "                new_row = {'wav_filename': wav_filename, 'start_time_s': times[0], 'end_time_s': times[1]}\n",
    "                times.pop(0)\n",
    "                times.pop(0)\n",
    "                noise_df = pd.concat([noise_df, pd.DataFrame([new_row])], ignore_index=True)\n",
    "\n",
    "noise_df"
   ]
  },
  {
   "cell_type": "code",
   "execution_count": 17,
   "id": "642f70a0",
   "metadata": {},
   "outputs": [
    {
     "data": {
      "image/png": "[encoded data removed]",
      "text/plain": [
       "<Figure size 640x480 with 1 Axes>"
      ]
     },
     "metadata": {},
     "output_type": "display_data"
    }
   ],
   "source": [
    "# SEEING HISTOGRAM FOR TIME DURATIONS OF ORCA CALLS\n",
    "orca_durations = pd.DataFrame()\n",
    "orca_durations['durations'] = orca_call_df['end_time_s'] - orca_call_df['start_time_s']\n",
    "orca_durations_list = orca_durations['durations'].tolist()\n",
    "\n",
    "# Create the histogram\n",
    "plt.hist(orca_durations_list, bins=50, edgecolor='black')\n",
    "\n",
    "# Add title and labels\n",
    "plt.title('Histogram of Orca Call Time Durations')\n",
    "plt.xlabel('Time Duration')\n",
    "plt.ylabel('Frequency')\n",
    "\n",
    "plt.xticks(range(0, 20, 1))\n",
    "\n",
    "# Show the plot\n",
    "plt.show()\n",
    "\n",
    "# Most orca calls have a time duration of 1s. "
   ]
  },
  {
   "cell_type": "code",
   "execution_count": 18,
   "id": "ca59782a",
   "metadata": {},
   "outputs": [
    {
     "data": {
      "image/png": "[encoded data removed]",
      "text/plain": [
       "<Figure size 640x480 with 1 Axes>"
      ]
     },
     "metadata": {},
     "output_type": "display_data"
    }
   ],
   "source": [
    "# SEEING HISTOGRAM FOR TIME DURATIONS OF ORCA CALLS\n",
    "noise_durations = pd.DataFrame()\n",
    "noise_durations['durations'] = noise_df['end_time_s'] - noise_df['start_time_s']\n",
    "noise_durations_list = noise_durations['durations'].tolist()\n",
    "\n",
    "# Create the histogram\n",
    "plt.hist(noise_durations_list, bins=50, edgecolor='black')\n",
    "\n",
    "# Add title and labels\n",
    "plt.title('Histogram of Noise Time Durations')\n",
    "plt.xlabel('Time Duration')\n",
    "plt.ylabel('Frequency')\n",
    "\n",
    "# Show the plot\n",
    "plt.show()\n"
   ]
  },
  {
   "cell_type": "code",
   "execution_count": 19,
   "id": "90c4c35b",
   "metadata": {},
   "outputs": [
    {
     "data": {
      "image/png": "[encoded data removed]",
      "text/plain": [
       "<Figure size 640x480 with 1 Axes>"
      ]
     },
     "metadata": {},
     "output_type": "display_data"
    }
   ],
   "source": [
    "# Still unclear, so removing all values from list higher than 50\n",
    "noise_durations_list = [value for value in noise_durations_list if value <= 50]\n",
    "\n",
    "# Create the histogram\n",
    "plt.hist(noise_durations_list, bins=50, edgecolor='black')\n",
    "\n",
    "plt.xticks(range(0, 50, 2))\n",
    "\n",
    "# Add title and labels\n",
    "plt.title('Histogram of Noise Time Durations')\n",
    "plt.xlabel('Time Duration')\n",
    "plt.ylabel('Frequency')\n",
    "\n",
    "# Show the plot\n",
    "plt.show()\n",
    "\n",
    "# Most noise calls have a time duration of 1s. "
   ]
  },
  {
   "cell_type": "code",
   "execution_count": 20,
   "id": "891e5a3a",
   "metadata": {},
   "outputs": [
    {
     "data": {
      "text/plain": [
       "(2347, 3)"
      ]
     },
     "execution_count": 20,
     "metadata": {},
     "output_type": "execute_result"
    }
   ],
   "source": [
    "# Remove rows from orca_call_df where duration < 1s\n",
    "indices_to_be_removed = []\n",
    "for index, row in orca_call_df.iterrows():\n",
    "    if row['end_time_s'] - row['start_time_s'] < 1:\n",
    "        indices_to_be_removed.append(index)\n",
    "    else:\n",
    "        orca_call_df.at[index, 'end_time_s'] = row['start_time_s'] + 1\n",
    "        \n",
    "orca_call_df.shape"
   ]
  },
  {
   "cell_type": "code",
   "execution_count": 21,
   "id": "0445a857",
   "metadata": {},
   "outputs": [],
   "source": [
    "if indices_to_be_removed: \n",
    "    orca_call_df = orca_call_df.drop(index=indices_to_be_removed)"
   ]
  },
  {
   "cell_type": "code",
   "execution_count": 22,
   "id": "6aab7da1",
   "metadata": {},
   "outputs": [],
   "source": [
    "# Remove rows from noise_df where duration < 1s\n",
    "indices_to_be_removed = []\n",
    "for index, row in noise_df.iterrows():\n",
    "    if row['end_time_s'] - row['start_time_s'] < 1:\n",
    "        indices_to_be_removed.append(index)\n",
    "    else:\n",
    "        noise_df.at[index, 'end_time_s'] = row['start_time_s'] + 1"
   ]
  },
  {
   "cell_type": "code",
   "execution_count": 23,
   "id": "fb6cffe3",
   "metadata": {},
   "outputs": [],
   "source": [
    "if indices_to_be_removed: \n",
    "    noise_df = noise_df.drop(index=indices_to_be_removed)"
   ]
  },
  {
   "cell_type": "code",
   "execution_count": 24,
   "id": "4de974ef",
   "metadata": {},
   "outputs": [
    {
     "data": {
      "text/plain": [
       "(322, 3)"
      ]
     },
     "execution_count": 24,
     "metadata": {},
     "output_type": "execute_result"
    }
   ],
   "source": [
    "noise_df.shape"
   ]
  },
  {
   "cell_type": "code",
   "execution_count": 27,
   "id": "5e7ce3b6",
   "metadata": {},
   "outputs": [],
   "source": [
    "# saving clean orca_call_df to csv file\n",
    "csv_file_path = './data/orca_data.csv'\n",
    "orca_call_df.to_csv(csv_file_path, index=False)\n",
    "\n",
    "# saving clean noise_df to csv file\n",
    "csv_file_path = './data/noise_data.csv'\n",
    "noise_df.to_csv(csv_file_path, index=False)"
   ]
  },
  {
   "cell_type": "code",
   "execution_count": null,
   "id": "7d843955",
   "metadata": {},
   "outputs": [],
   "source": []
  }
 ],
 "metadata": {
  "kernelspec": {
   "display_name": "seismo 3.10 (SHARED)",
   "language": "python",
   "name": "seismo-py310-shared"
  },
  "language_info": {
   "codemirror_mode": {
    "name": "ipython",
    "version": 3
   },
   "file_extension": ".py",
   "mimetype": "text/x-python",
   "name": "python",
   "nbconvert_exporter": "python",
   "pygments_lexer": "ipython3",
   "version": "3.10.13"
  }
 },
 "nbformat": 4,
 "nbformat_minor": 5
}
