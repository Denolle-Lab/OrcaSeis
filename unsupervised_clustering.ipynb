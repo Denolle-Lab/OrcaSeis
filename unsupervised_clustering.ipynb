{
 "cells": [
  {
   "cell_type": "code",
   "execution_count": 1,
   "id": "d2188a3b",
   "metadata": {},
   "outputs": [],
   "source": [
    "import librosa\n",
    "import librosa.display\n",
    "import obspy\n",
    "import matplotlib.pyplot as plt\n",
    "import numpy as np\n",
    "import os\n",
    "import h5py\n",
    "import tsfel\n",
    "import pandas as pd\n",
    "import csv"
   ]
  },
  {
   "cell_type": "code",
   "execution_count": 5,
   "id": "0ede1c04",
   "metadata": {},
   "outputs": [
    {
     "name": "stdout",
     "output_type": "stream",
     "text": [
      "(10, 14)\n",
      "(10, 14)\n"
     ]
    }
   ],
   "source": [
    "# Convert features.csv to df\n",
    "\n",
    "features_df = pd.read_csv('features.csv')\n",
    "\n",
    "# Convert features_df to np array\n",
    "features_np_array = features_df.to_numpy()\n",
    "print(features_np_array.shape)"
   ]
  },
  {
   "cell_type": "code",
   "execution_count": 6,
   "id": "53be65c2",
   "metadata": {},
   "outputs": [
    {
     "name": "stdout",
     "output_type": "stream",
     "text": [
      "shape after pca: (10, 3)\n"
     ]
    }
   ],
   "source": [
    "# pca\n",
    "from sklearn import decomposition\n",
    "ncom = 3 # num of components (num dimensions data will be reduced to)\n",
    "\n",
    "pca = decomposition.PCA(n_components=ncom) # initializes pca model\n",
    "pca.fit(features_np_array) # fits model to features_np_array\n",
    "\n",
    "# applies PCA transformaation to features_np_array, x has reduced dimensions\n",
    "x = pca.transform(features_np_array)\n",
    "\n",
    "print('shape after pca:', x.shape)"
   ]
  },
  {
   "cell_type": "code",
   "execution_count": null,
   "id": "7f1764e4",
   "metadata": {},
   "outputs": [],
   "source": []
  }
 ],
 "metadata": {
  "kernelspec": {
   "display_name": "seismo 3.10 (SHARED)",
   "language": "python",
   "name": "seismo-py310-shared"
  },
  "language_info": {
   "codemirror_mode": {
    "name": "ipython",
    "version": 3
   },
   "file_extension": ".py",
   "mimetype": "text/x-python",
   "name": "python",
   "nbconvert_exporter": "python",
   "pygments_lexer": "ipython3",
   "version": "3.10.13"
  }
 },
 "nbformat": 4,
 "nbformat_minor": 5
}
