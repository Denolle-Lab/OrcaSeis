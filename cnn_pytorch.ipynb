{
 "cells": [
  {
   "cell_type": "code",
   "execution_count": 35,
   "id": "8e2df537",
   "metadata": {},
   "outputs": [],
   "source": [
    "import pandas as pd\n",
    "import numpy as np\n",
    "import matplotlib.pyplot as plt\n",
    "import obspy\n",
    "import sys\n",
    "import os\n",
    "from scipy import stats,signal\n",
    "import librosa\n",
    "import random\n",
    "\n",
    "import torch\n",
    "import torch.nn as nn\n",
    "import torch.optim as optim\n",
    "from torch.utils.data import random_split\n",
    "# import torchvision.transforms as transforms\n",
    "import torch.nn.functional as F\n",
    "from torch.utils.data import DataLoader, TensorDataset\n",
    "from torch.utils.data import Dataset\n",
    "\n",
    "# Check if a GPU is available\n",
    "device = torch.device(\"cuda\" if torch.cuda.is_available() else \"cpu\")"
   ]
  },
  {
   "cell_type": "markdown",
   "id": "bf4ee556",
   "metadata": {},
   "source": [
    "# Getting Data"
   ]
  },
  {
   "cell_type": "code",
   "execution_count": 37,
   "id": "9b1c3ea2",
   "metadata": {},
   "outputs": [],
   "source": [
    "os.chdir('data')\n",
    "orca_df = pd.read_csv(\"orca_data.csv\")\n",
    "noise_df = pd.read_csv(\"noise_data.csv\")"
   ]
  },
  {
   "cell_type": "code",
   "execution_count": 38,
   "id": "978a7674",
   "metadata": {},
   "outputs": [],
   "source": [
    "orca_df = orca_df.sample(n=len(orca_df)//20) # shape = (97, 3)\n",
    "noise_df = noise_df.sample(n=len(noise_df)//3) # shape = (107, 3)"
   ]
  },
  {
   "cell_type": "markdown",
   "id": "bff5bd57",
   "metadata": {},
   "source": [
    "# Data Preparation"
   ]
  },
  {
   "cell_type": "code",
   "execution_count": 47,
   "id": "416ce78a",
   "metadata": {},
   "outputs": [
    {
     "data": {
      "text/html": [
       "<div>\n",
       "<style scoped>\n",
       "    .dataframe tbody tr th:only-of-type {\n",
       "        vertical-align: middle;\n",
       "    }\n",
       "\n",
       "    .dataframe tbody tr th {\n",
       "        vertical-align: top;\n",
       "    }\n",
       "\n",
       "    .dataframe thead th {\n",
       "        text-align: right;\n",
       "    }\n",
       "</style>\n",
       "<table border=\"1\" class=\"dataframe\">\n",
       "  <thead>\n",
       "    <tr style=\"text-align: right;\">\n",
       "      <th></th>\n",
       "      <th>wav_filename</th>\n",
       "      <th>start_time_s</th>\n",
       "      <th>end_time_s</th>\n",
       "      <th>label</th>\n",
       "    </tr>\n",
       "  </thead>\n",
       "  <tbody>\n",
       "    <tr>\n",
       "      <th>0</th>\n",
       "      <td>9750100B.wav</td>\n",
       "      <td>0.000000</td>\n",
       "      <td>1.000000</td>\n",
       "      <td>1</td>\n",
       "    </tr>\n",
       "    <tr>\n",
       "      <th>1</th>\n",
       "      <td>97770004.wav</td>\n",
       "      <td>0.000000</td>\n",
       "      <td>1.000000</td>\n",
       "      <td>1</td>\n",
       "    </tr>\n",
       "    <tr>\n",
       "      <th>2</th>\n",
       "      <td>1562337136_0010.wav</td>\n",
       "      <td>47.755859</td>\n",
       "      <td>48.755859</td>\n",
       "      <td>1</td>\n",
       "    </tr>\n",
       "    <tr>\n",
       "      <th>3</th>\n",
       "      <td>9750300Z.wav</td>\n",
       "      <td>0.000000</td>\n",
       "      <td>1.000000</td>\n",
       "      <td>1</td>\n",
       "    </tr>\n",
       "    <tr>\n",
       "      <th>4</th>\n",
       "      <td>97500008.wav</td>\n",
       "      <td>0.000000</td>\n",
       "      <td>1.000000</td>\n",
       "      <td>1</td>\n",
       "    </tr>\n",
       "    <tr>\n",
       "      <th>...</th>\n",
       "      <td>...</td>\n",
       "      <td>...</td>\n",
       "      <td>...</td>\n",
       "      <td>...</td>\n",
       "    </tr>\n",
       "    <tr>\n",
       "      <th>199</th>\n",
       "      <td>790150007.wav</td>\n",
       "      <td>22.050000</td>\n",
       "      <td>23.050000</td>\n",
       "      <td>0</td>\n",
       "    </tr>\n",
       "    <tr>\n",
       "      <th>200</th>\n",
       "      <td>780210003.wav</td>\n",
       "      <td>0.000000</td>\n",
       "      <td>1.000000</td>\n",
       "      <td>0</td>\n",
       "    </tr>\n",
       "    <tr>\n",
       "      <th>201</th>\n",
       "      <td>1562340736_0009.wav</td>\n",
       "      <td>2.322484</td>\n",
       "      <td>3.322484</td>\n",
       "      <td>0</td>\n",
       "    </tr>\n",
       "    <tr>\n",
       "      <th>202</th>\n",
       "      <td>1562340736_0007.wav</td>\n",
       "      <td>0.000000</td>\n",
       "      <td>1.000000</td>\n",
       "      <td>0</td>\n",
       "    </tr>\n",
       "    <tr>\n",
       "      <th>203</th>\n",
       "      <td>1562344334_000e.wav</td>\n",
       "      <td>13.270833</td>\n",
       "      <td>14.270833</td>\n",
       "      <td>0</td>\n",
       "    </tr>\n",
       "  </tbody>\n",
       "</table>\n",
       "<p>204 rows × 4 columns</p>\n",
       "</div>"
      ],
      "text/plain": [
       "            wav_filename  start_time_s  end_time_s  label\n",
       "0           9750100B.wav      0.000000    1.000000      1\n",
       "1           97770004.wav      0.000000    1.000000      1\n",
       "2    1562337136_0010.wav     47.755859   48.755859      1\n",
       "3           9750300Z.wav      0.000000    1.000000      1\n",
       "4           97500008.wav      0.000000    1.000000      1\n",
       "..                   ...           ...         ...    ...\n",
       "199        790150007.wav     22.050000   23.050000      0\n",
       "200        780210003.wav      0.000000    1.000000      0\n",
       "201  1562340736_0009.wav      2.322484    3.322484      0\n",
       "202  1562340736_0007.wav      0.000000    1.000000      0\n",
       "203  1562344334_000e.wav     13.270833   14.270833      0\n",
       "\n",
       "[204 rows x 4 columns]"
      ]
     },
     "execution_count": 47,
     "metadata": {},
     "output_type": "execute_result"
    }
   ],
   "source": [
    "os.makedirs('orca_spectrogram')\n",
    "os.makedirs('noise_spectrogram')\n",
    "\n",
    "# Add column with labels to orca_df and noise_df, then merge the two together\n",
    "orca_df['label'] = 1\n",
    "noise_df['label'] = 0\n",
    "data_df = pd.concat([orca_df, noise_df], ignore_index=True)\n",
    "num_total_data = len(data_df) # 1 data = 1 row in df"
   ]
  },
  {
   "cell_type": "code",
   "execution_count": 40,
   "id": "ad4e9ff6",
   "metadata": {},
   "outputs": [],
   "source": [
    "dir_path = '/home/ajm76/OrcaSeis/data'\n",
    "\n",
    "for index, row in data_df.iterrows():\n",
    "    filename = row['wav_filename']\n",
    "    filepath = 'wav/' + filename\n",
    "    start_time = row['start_time_s']  # Keep in seconds\n",
    "    end_time = row['end_time_s']  # Keep in seconds\n",
    "\n",
    "    # Load the original wav file\n",
    "    y, sr = librosa.load(filepath) #sr = 22050 for all\n",
    "\n",
    "    # Convert start and end times to sample indices\n",
    "    start_sample = int(start_time * sr)\n",
    "    end_sample = int(end_time * sr)\n",
    "\n",
    "    # Extract the chunk\n",
    "    chunk = y[start_sample:end_sample]\n",
    "\n",
    "    # Generate a Short-Time Fourier Transform (STFT) spectrogram\n",
    "    D = librosa.stft(chunk)\n",
    "\n",
    "    # Convert amplitude spectrogram to dB-scaled spectrogram\n",
    "    S_db = librosa.amplitude_to_db(np.abs(D), ref=np.max)\n",
    "\n",
    "    # Save the spectrogram as a NumPy array\n",
    "    dir_name = ''\n",
    "    if row['label'] == 1:\n",
    "        dir_name = 'orca_spectrogram'\n",
    "    else:\n",
    "        dir_name = 'noise_spectrogram'\n",
    "    np.save(os.path.join(dir_path, dir_name, str(index) + '.npy'), S_db)    "
   ]
  },
  {
   "cell_type": "code",
   "execution_count": 41,
   "id": "2448e119",
   "metadata": {},
   "outputs": [],
   "source": [
    "start=-50\n",
    "input_window_length=100 # in seconds\n",
    "fs=5000 # target sampling rate\n",
    "\n",
    "number_data_per_class=2000 # number of data samples per class\n",
    "num_channels=3  # number of components to check\n",
    "\n",
    "SNR_THR = 0\n",
    "\n",
    "all_data=False\n",
    "shifting=True\n",
    "augmentation=False\n",
    "\n",
    "\n",
    "# training parameters\n",
    "train_split = 70\n",
    "val_split=20\n",
    "test_split = 10\n",
    "learning_rate=0.001\n",
    "batch_size=24\n",
    "n_epochs=60\n",
    "dropout=0.4\n",
    "criterion=nn.CrossEntropyLoss()"
   ]
  },
  {
   "cell_type": "markdown",
   "id": "f4247f23",
   "metadata": {},
   "source": [
    "# Defining Model"
   ]
  },
  {
   "cell_type": "code",
   "execution_count": 42,
   "id": "52cc8fc2",
   "metadata": {},
   "outputs": [],
   "source": [
    "class OrcaCNN(nn.Module):\n",
    "    def __init__(self, num_classes=4, num_channels = 3,dropout_rate=0.2):\n",
    "        super(OrcaCNN, self).__init__()\n",
    "        # Define the layers of the CNN architecture\n",
    "        self.conv1 = nn.Conv1d(in_channels= num_channels, out_channels=32, kernel_size=5)\n",
    "        self.conv2 = nn.Conv1d(in_channels=32, out_channels=64, kernel_size=5)\n",
    "        self.pool = nn.MaxPool1d(kernel_size=2)\n",
    "        self.fc1 = nn.Linear(79808, 128)  # Adjust input size based on your data\n",
    "        self.fc2 = nn.Linear(128, num_classes)\n",
    "        self.softmax = nn.Softmax(dim=1)\n",
    "\n",
    "        self.dropout = nn.Dropout(dropout_rate)\n",
    "\n",
    "        self.bn1 = nn.BatchNorm1d(32)#, dtype=torch.float64)\n",
    "        self.bn2 = nn.BatchNorm1d(64)#, dtype=torch.float64)\n",
    "        self.fc1_bn = nn.BatchNorm1d(128)\n",
    "        self.fc2_bn = nn.BatchNorm1d(num_classes)\n",
    "\n",
    "    def forward(self, x):\n",
    "\n",
    "        # x = self.pool1(F.relu(self.bn2(self.conv2(x)))) # feature extraction, output size of 8,1250 \n",
    "        x = self.pool(F.relu(self.bn1(self.conv1(x))))\n",
    "        x = self.dropout(x)\n",
    "        x = self.pool(F.relu(self.bn2(self.conv2(x))))\n",
    "        x = self.dropout(x)\n",
    "        x = x.view(x.size(0), -1)\n",
    "        x = F.relu(self.fc1_bn(self.fc1(x)))\n",
    "        x = self.dropout(x)\n",
    "        x = self.fc2_bn(self.fc2(x))\n",
    "        # do not apply softmax here, as it will be applied in the loss function\n",
    "        return x\n"
   ]
  },
  {
   "cell_type": "markdown",
   "id": "9079b0e5",
   "metadata": {},
   "source": [
    "# Testing CNN model"
   ]
  },
  {
   "cell_type": "code",
   "execution_count": 43,
   "id": "2c251f6a",
   "metadata": {},
   "outputs": [
    {
     "name": "stdout",
     "output_type": "stream",
     "text": [
      "Total number of parameters in OrcaCNN in log10: 7.009762693972353\n"
     ]
    }
   ],
   "source": [
    "# Assuming the input shape is (batch_size, num_channels, num_features)\n",
    "# batch_size = 64  # You can adjust the batch size as needed\n",
    "num_channels = 3\n",
    "num_features = 5000\n",
    "# Create a random input tensor with the specified shape\n",
    "random_input = torch.randn(batch_size, num_channels,int(input_window_length*fs)).to(device)\n",
    "# Initialize your model\n",
    "model = OrcaCNN(num_classes=4, num_channels=num_channels).to(device)  # Use 'cuda' if you have a GPU available\n",
    "total_params = sum(p.numel() for p in model.parameters() if p.requires_grad)\n",
    "print(f\"Total number of parameters in OrcaCNN in log10: {np.log10(total_params)}\")"
   ]
  },
  {
   "cell_type": "code",
   "execution_count": 44,
   "id": "af40c36c",
   "metadata": {},
   "outputs": [],
   "source": [
    "from torch.utils.data import Dataset\n",
    "class PNWDataSet(Dataset): # create custom dataset\n",
    "    def __init__(self, data,labels,num_classes): # initialize\n",
    "        self.data = data \n",
    "        self.labels = labels\n",
    "        self.num_classes = num_classes\n",
    "\n",
    "    def __len__(self):\n",
    "        return len(self.data)\n",
    "\n",
    "    def __getitem__(self, index):\n",
    "        sample_data = self.data[index]\n",
    "        sample_labels = self.labels[index]        \n",
    "        return torch.Tensor(sample_data), sample_labels.float()  # return data as a tensor"
   ]
  },
  {
   "cell_type": "code",
   "execution_count": 32,
   "id": "09128844",
   "metadata": {},
   "outputs": [],
   "source": [
    "# Loading first sepctrogram \n",
    "spectrogram_1 = np.load(os.path.join(dir_path, \"orca_spectrogram\", \"1.npy\"))"
   ]
  },
  {
   "cell_type": "code",
   "execution_count": 51,
   "id": "a2e657c0",
   "metadata": {},
   "outputs": [
    {
     "name": "stdout",
     "output_type": "stream",
     "text": [
      "(1025, 44)\n"
     ]
    },
    {
     "ename": "ValueError",
     "evalue": "could not broadcast input array from shape (1025,1357) into shape (1025,44)",
     "output_type": "error",
     "traceback": [
      "\u001b[0;31m---------------------------------------------------------------------------\u001b[0m",
      "\u001b[0;31mValueError\u001b[0m                                Traceback (most recent call last)",
      "Cell \u001b[0;32mIn[51], line 31\u001b[0m\n\u001b[1;32m     28\u001b[0m normalized_spectrogram \u001b[38;5;241m=\u001b[39m (spectrogram \u001b[38;5;241m-\u001b[39m mean) \u001b[38;5;241m/\u001b[39m std_dev\n\u001b[1;32m     30\u001b[0m \u001b[38;5;66;03m# Add spectrogram to data array\u001b[39;00m\n\u001b[0;32m---> 31\u001b[0m \u001b[43mdata\u001b[49m\u001b[43m[\u001b[49m\u001b[43mindex\u001b[49m\u001b[43m]\u001b[49m \u001b[38;5;241m=\u001b[39m normalized_spectrogram\n\u001b[1;32m     33\u001b[0m \u001b[38;5;66;03m# Populate labels array\u001b[39;00m\n\u001b[1;32m     34\u001b[0m labels[index] \u001b[38;5;241m=\u001b[39m row[\u001b[38;5;124m'\u001b[39m\u001b[38;5;124mlabel\u001b[39m\u001b[38;5;124m'\u001b[39m] \n",
      "\u001b[0;31mValueError\u001b[0m: could not broadcast input array from shape (1025,1357) into shape (1025,44)"
     ]
    }
   ],
   "source": [
    "N = spectrogram_1.shape[0]\n",
    "data = np.zeros(shape=(num_total_data, N, spectrogram_1.shape[1]))\n",
    "labels = np.zeros(num_total_data)\n",
    "print(spectrogram_1.shape)\n",
    "\n",
    "# Shuffling the data\n",
    "random.seed(1234)\n",
    "data_df = data_df.sample(frac=1).reset_index(drop=True)\n",
    "\n",
    "# Populating data and labels arrays\n",
    "for index, row in data_df.iterrows():\n",
    "    file_name = str(index) + \".npy\"\n",
    "    \n",
    "    # Load the spectrogram\n",
    "    cat_path = \"\"\n",
    "    if row['label'] == 0:\n",
    "        cat_path = 'noise_spectrogram'\n",
    "    else:\n",
    "        cat_path = 'orca_spectrogram'\n",
    "    spectrogram = np.load(os.path.join(dir_path, cat_path, file_name))\n",
    "    \n",
    "    # Select window of data (first 100 points)\n",
    "    spectrogram = spectrogram[:N, :]\n",
    "    \n",
    "    # Normalize using std deviation\n",
    "    mean = np.mean(spectrogram)\n",
    "    std_dev = np.std(spectrogram)\n",
    "    normalized_spectrogram = (spectrogram - mean) / std_dev\n",
    "    \n",
    "    # Add spectrogram to data array\n",
    "    data[index] = normalized_spectrogram\n",
    "    \n",
    "    # Populate labels array\n",
    "    labels[index] = row['label'] \n",
    "    \n",
    "    # TESTING CODE\n",
    "#     if index == 2:\n",
    "#         break\n",
    "    \n",
    "\n",
    "# Remove rows of 0s if there are any and return data and labels arrays\n",
    "idx = np.where(np.mean(np.abs(data[:,2,0:10]),axis=-1)>0)[0]\n",
    "data_df.head()"
   ]
  },
  {
   "cell_type": "code",
   "execution_count": 52,
   "id": "a7b433ed",
   "metadata": {},
   "outputs": [
    {
     "data": {
      "image/png": "[encoded data removed]",
      "text/plain": [
       "<Figure size 1400x500 with 2 Axes>"
      ]
     },
     "metadata": {},
     "output_type": "display_data"
    }
   ],
   "source": [
    "plt.figure(figsize=(14, 5))\n",
    "plt.imshow(data[2], origin='lower')\n",
    "plt.colorbar(format='%+2.0f dB')\n",
    "plt.title('Mel spectrogram  Cesptrum')\n",
    "plt.tight_layout()\n",
    "plt.show()"
   ]
  },
  {
   "cell_type": "code",
   "execution_count": null,
   "id": "7b7ebf82",
   "metadata": {},
   "outputs": [],
   "source": []
  }
 ],
 "metadata": {
  "kernelspec": {
   "display_name": "seismo 3.10 (SHARED)",
   "language": "python",
   "name": "seismo-py310-shared"
  },
  "language_info": {
   "codemirror_mode": {
    "name": "ipython",
    "version": 3
   },
   "file_extension": ".py",
   "mimetype": "text/x-python",
   "name": "python",
   "nbconvert_exporter": "python",
   "pygments_lexer": "ipython3",
   "version": "3.10.13"
  }
 },
 "nbformat": 4,
 "nbformat_minor": 5
}
