{
 "cells": [
  {
   "cell_type": "code",
   "execution_count": 19,
   "id": "c06db939",
   "metadata": {},
   "outputs": [],
   "source": [
    "import pandas as pd\n",
    "import numpy as np\n",
    "import librosa\n",
    "import os\n",
    "import matplotlib.pyplot as plt\n",
    "from PIL import Image"
   ]
  },
  {
   "cell_type": "code",
   "execution_count": 12,
   "id": "bb56ab7b",
   "metadata": {},
   "outputs": [],
   "source": [
    "os.chdir('data')\n",
    "os.makedirs('orca_spectrograms')\n",
    "os.makedirs('noise_spectrograms')"
   ]
  },
  {
   "cell_type": "code",
   "execution_count": 35,
   "id": "e52e0d7b",
   "metadata": {},
   "outputs": [
    {
     "data": {
      "text/plain": [
       "(2216, 3)"
      ]
     },
     "execution_count": 35,
     "metadata": {},
     "output_type": "execute_result"
    }
   ],
   "source": [
    "orca_df = pd.read_csv(\"orca_data.csv\")\n",
    "noise_df = pd.read_csv(\"noise_data.csv\")\n",
    "noise_df.shape"
   ]
  },
  {
   "cell_type": "code",
   "execution_count": 26,
   "id": "0bdcb95a",
   "metadata": {},
   "outputs": [
    {
     "name": "stdout",
     "output_type": "stream",
     "text": [
      "2347\n"
     ]
    }
   ],
   "source": [
    "# creating list with orca audio chunks\n",
    "orca_audio_chunks = []\n",
    "for index, row in orca_df.iterrows():\n",
    "    filename = row['wav_filename']\n",
    "    filepath = 'wav/' + filename\n",
    "    start_time = row['start_time_s']  # Keep in seconds\n",
    "    end_time = row['end_time_s']  # Keep in seconds\n",
    "    \n",
    "    # Load the original wav file\n",
    "    y, sr = librosa.load(filepath)\n",
    "\n",
    "    # Convert start and end times to sample indices\n",
    "    start_sample = int(start_time * sr)\n",
    "    end_sample = int(end_time * sr)\n",
    "\n",
    "    # Extract the chunk\n",
    "    chunk = y[start_sample:end_sample]\n",
    "    orca_audio_chunks.append(chunk)\n",
    "    \n",
    "print(len(orca_audio_chunks))"
   ]
  },
  {
   "cell_type": "code",
   "execution_count": 28,
   "id": "4dd01068",
   "metadata": {},
   "outputs": [],
   "source": [
    "# functions to help convert list of audio chunks to images and export\n",
    "def generate_mel_spectrogram(audio_chunk, sr=22050, n_mels=128, fmax=8000):\n",
    "    # Generate the mel spectrogram\n",
    "    S = librosa.feature.melspectrogram(y=audio_chunk, sr=sr, n_mels=n_mels, fmax=fmax)\n",
    "    S_dB = librosa.power_to_db(S, ref=np.max)\n",
    "    \n",
    "    # Plot the mel spectrogram\n",
    "    plt.figure(figsize=(10, 4))\n",
    "    librosa.display.specshow(S_dB, sr=sr, x_axis='time', y_axis='mel', fmax=fmax)\n",
    "    plt.colorbar(format='%+2.0f dB')\n",
    "    plt.title('Mel-frequency spectrogram')\n",
    "    plt.tight_layout()\n",
    "    \n",
    "    # Save the plot to a buffer\n",
    "    plt.savefig('mel_spectrogram.png')\n",
    "    plt.close()\n",
    "    \n",
    "    # Open the saved image and return it\n",
    "    image = Image.open('mel_spectrogram.png')\n",
    "    return image\n",
    "\n",
    "def save_spectrogram_image(image, file_path):\n",
    "    # Save the image to the specified directory\n",
    "    image.save(file_path)"
   ]
  },
  {
   "cell_type": "code",
   "execution_count": 33,
   "id": "00df0008",
   "metadata": {},
   "outputs": [],
   "source": [
    "# creating spectrograms for orca calls\n",
    "for i in range(len(orca_audio_chunks)):\n",
    "    mel_spectrogram_image = generate_mel_spectrogram(orca_audio_chunks[i], sr)\n",
    "    path = 'orca_spectrograms/' + str(i) + '.png'\n",
    "    save_spectrogram_image(mel_spectrogram_image, path)"
   ]
  },
  {
   "cell_type": "code",
   "execution_count": 34,
   "id": "02bdb1b2",
   "metadata": {},
   "outputs": [
    {
     "name": "stdout",
     "output_type": "stream",
     "text": [
      "2216\n"
     ]
    }
   ],
   "source": [
    "# creating list with noise audio chunks\n",
    "noise_audio_chunks = []\n",
    "for index, row in noise_df.iterrows():\n",
    "    filename = row['wav_filename']\n",
    "    filepath = 'wav/' + filename\n",
    "    start_time = row['start_time_s']  # Keep in seconds\n",
    "    end_time = row['end_time_s']  # Keep in seconds\n",
    "    \n",
    "    # Load the original wav file\n",
    "    y, sr = librosa.load(filepath)\n",
    "\n",
    "    # Convert start and end times to sample indices\n",
    "    start_sample = int(start_time * sr)\n",
    "    end_sample = int(end_time * sr)\n",
    "\n",
    "    # Extract the chunk\n",
    "    chunk = y[start_sample:end_sample]\n",
    "    noise_audio_chunks.append(chunk)\n",
    "    \n",
    "print(len(noise_audio_chunks))"
   ]
  },
  {
   "cell_type": "code",
   "execution_count": null,
   "id": "50e8a2b7",
   "metadata": {},
   "outputs": [
    {
     "name": "stderr",
     "output_type": "stream",
     "text": [
      "/home/jupyter_share/miniconda3/envs/seismo2/lib/python3.10/site-packages/librosa/core/spectrum.py:257: UserWarning: n_fft=2048 is too large for input signal of length=0\n",
      "  warnings.warn(\n",
      "/home/jupyter_share/miniconda3/envs/seismo2/lib/python3.10/site-packages/librosa/core/spectrum.py:257: UserWarning: n_fft=2048 is too large for input signal of length=512\n",
      "  warnings.warn(\n",
      "/home/jupyter_share/miniconda3/envs/seismo2/lib/python3.10/site-packages/librosa/core/spectrum.py:257: UserWarning: n_fft=2048 is too large for input signal of length=22\n",
      "  warnings.warn(\n",
      "/home/jupyter_share/miniconda3/envs/seismo2/lib/python3.10/site-packages/librosa/core/spectrum.py:257: UserWarning: n_fft=2048 is too large for input signal of length=11\n",
      "  warnings.warn(\n",
      "/home/jupyter_share/miniconda3/envs/seismo2/lib/python3.10/site-packages/librosa/core/spectrum.py:257: UserWarning: n_fft=2048 is too large for input signal of length=19\n",
      "  warnings.warn(\n",
      "/home/jupyter_share/miniconda3/envs/seismo2/lib/python3.10/site-packages/librosa/core/spectrum.py:257: UserWarning: n_fft=2048 is too large for input signal of length=2\n",
      "  warnings.warn(\n",
      "/home/jupyter_share/miniconda3/envs/seismo2/lib/python3.10/site-packages/librosa/core/spectrum.py:257: UserWarning: n_fft=2048 is too large for input signal of length=6\n",
      "  warnings.warn(\n",
      "/home/jupyter_share/miniconda3/envs/seismo2/lib/python3.10/site-packages/librosa/core/spectrum.py:257: UserWarning: n_fft=2048 is too large for input signal of length=12\n",
      "  warnings.warn(\n",
      "/home/jupyter_share/miniconda3/envs/seismo2/lib/python3.10/site-packages/librosa/core/spectrum.py:257: UserWarning: n_fft=2048 is too large for input signal of length=20\n",
      "  warnings.warn(\n",
      "/home/jupyter_share/miniconda3/envs/seismo2/lib/python3.10/site-packages/librosa/core/spectrum.py:257: UserWarning: n_fft=2048 is too large for input signal of length=1\n",
      "  warnings.warn(\n",
      "/home/jupyter_share/miniconda3/envs/seismo2/lib/python3.10/site-packages/librosa/core/spectrum.py:257: UserWarning: n_fft=2048 is too large for input signal of length=9\n",
      "  warnings.warn(\n",
      "/home/jupyter_share/miniconda3/envs/seismo2/lib/python3.10/site-packages/librosa/core/spectrum.py:257: UserWarning: n_fft=2048 is too large for input signal of length=13\n",
      "  warnings.warn(\n",
      "/home/jupyter_share/miniconda3/envs/seismo2/lib/python3.10/site-packages/librosa/core/spectrum.py:257: UserWarning: n_fft=2048 is too large for input signal of length=5\n",
      "  warnings.warn(\n",
      "/home/jupyter_share/miniconda3/envs/seismo2/lib/python3.10/site-packages/librosa/core/spectrum.py:257: UserWarning: n_fft=2048 is too large for input signal of length=14\n",
      "  warnings.warn(\n",
      "/home/jupyter_share/miniconda3/envs/seismo2/lib/python3.10/site-packages/librosa/core/spectrum.py:257: UserWarning: n_fft=2048 is too large for input signal of length=10\n",
      "  warnings.warn(\n",
      "/home/jupyter_share/miniconda3/envs/seismo2/lib/python3.10/site-packages/librosa/core/spectrum.py:257: UserWarning: n_fft=2048 is too large for input signal of length=8\n",
      "  warnings.warn(\n",
      "/home/jupyter_share/miniconda3/envs/seismo2/lib/python3.10/site-packages/librosa/core/spectrum.py:257: UserWarning: n_fft=2048 is too large for input signal of length=17\n",
      "  warnings.warn(\n",
      "/home/jupyter_share/miniconda3/envs/seismo2/lib/python3.10/site-packages/librosa/core/spectrum.py:257: UserWarning: n_fft=2048 is too large for input signal of length=16\n",
      "  warnings.warn(\n",
      "/home/jupyter_share/miniconda3/envs/seismo2/lib/python3.10/site-packages/librosa/core/spectrum.py:257: UserWarning: n_fft=2048 is too large for input signal of length=18\n",
      "  warnings.warn(\n",
      "/home/jupyter_share/miniconda3/envs/seismo2/lib/python3.10/site-packages/librosa/core/spectrum.py:257: UserWarning: n_fft=2048 is too large for input signal of length=7\n",
      "  warnings.warn(\n",
      "/home/jupyter_share/miniconda3/envs/seismo2/lib/python3.10/site-packages/librosa/core/spectrum.py:257: UserWarning: n_fft=2048 is too large for input signal of length=15\n",
      "  warnings.warn(\n",
      "/home/jupyter_share/miniconda3/envs/seismo2/lib/python3.10/site-packages/librosa/core/spectrum.py:257: UserWarning: n_fft=2048 is too large for input signal of length=21\n",
      "  warnings.warn(\n",
      "/home/jupyter_share/miniconda3/envs/seismo2/lib/python3.10/site-packages/librosa/core/spectrum.py:257: UserWarning: n_fft=2048 is too large for input signal of length=4\n",
      "  warnings.warn(\n",
      "/home/jupyter_share/miniconda3/envs/seismo2/lib/python3.10/site-packages/librosa/core/spectrum.py:257: UserWarning: n_fft=2048 is too large for input signal of length=63\n",
      "  warnings.warn(\n",
      "/home/jupyter_share/miniconda3/envs/seismo2/lib/python3.10/site-packages/librosa/core/spectrum.py:257: UserWarning: n_fft=2048 is too large for input signal of length=3\n",
      "  warnings.warn(\n",
      "/home/jupyter_share/miniconda3/envs/seismo2/lib/python3.10/site-packages/librosa/core/spectrum.py:257: UserWarning: n_fft=2048 is too large for input signal of length=31\n",
      "  warnings.warn(\n",
      "/home/jupyter_share/miniconda3/envs/seismo2/lib/python3.10/site-packages/librosa/core/spectrum.py:257: UserWarning: n_fft=2048 is too large for input signal of length=37\n",
      "  warnings.warn(\n",
      "/home/jupyter_share/miniconda3/envs/seismo2/lib/python3.10/site-packages/librosa/core/spectrum.py:257: UserWarning: n_fft=2048 is too large for input signal of length=32\n",
      "  warnings.warn(\n",
      "/home/jupyter_share/miniconda3/envs/seismo2/lib/python3.10/site-packages/librosa/core/spectrum.py:257: UserWarning: n_fft=2048 is too large for input signal of length=1111\n",
      "  warnings.warn(\n",
      "/home/jupyter_share/miniconda3/envs/seismo2/lib/python3.10/site-packages/librosa/core/spectrum.py:257: UserWarning: n_fft=2048 is too large for input signal of length=892\n",
      "  warnings.warn(\n",
      "/home/jupyter_share/miniconda3/envs/seismo2/lib/python3.10/site-packages/librosa/core/spectrum.py:257: UserWarning: n_fft=2048 is too large for input signal of length=86\n",
      "  warnings.warn(\n",
      "/home/jupyter_share/miniconda3/envs/seismo2/lib/python3.10/site-packages/librosa/core/spectrum.py:257: UserWarning: n_fft=2048 is too large for input signal of length=191\n",
      "  warnings.warn(\n",
      "/home/jupyter_share/miniconda3/envs/seismo2/lib/python3.10/site-packages/librosa/core/spectrum.py:257: UserWarning: n_fft=2048 is too large for input signal of length=25\n",
      "  warnings.warn(\n",
      "/home/jupyter_share/miniconda3/envs/seismo2/lib/python3.10/site-packages/librosa/core/spectrum.py:257: UserWarning: n_fft=2048 is too large for input signal of length=1112\n",
      "  warnings.warn(\n",
      "/home/jupyter_share/miniconda3/envs/seismo2/lib/python3.10/site-packages/librosa/core/spectrum.py:257: UserWarning: n_fft=2048 is too large for input signal of length=311\n",
      "  warnings.warn(\n",
      "/home/jupyter_share/miniconda3/envs/seismo2/lib/python3.10/site-packages/librosa/core/spectrum.py:257: UserWarning: n_fft=2048 is too large for input signal of length=1552\n",
      "  warnings.warn(\n",
      "/home/jupyter_share/miniconda3/envs/seismo2/lib/python3.10/site-packages/librosa/core/spectrum.py:257: UserWarning: n_fft=2048 is too large for input signal of length=1384\n",
      "  warnings.warn(\n"
     ]
    }
   ],
   "source": [
    "# creating spectrograms for noise\n",
    "for i in range(len(noise_audio_chunks)):\n",
    "    mel_spectrogram_image = generate_mel_spectrogram(noise_audio_chunks[i], sr)\n",
    "    path = 'noise_spectrograms/' + str(i) + '.png'\n",
    "    save_spectrogram_image(mel_spectrogram_image, path)"
   ]
  },
  {
   "cell_type": "code",
   "execution_count": null,
   "id": "4585aeaf",
   "metadata": {},
   "outputs": [],
   "source": []
  }
 ],
 "metadata": {
  "kernelspec": {
   "display_name": "seismo 3.10 (SHARED)",
   "language": "python",
   "name": "seismo-py310-shared"
  },
  "language_info": {
   "codemirror_mode": {
    "name": "ipython",
    "version": 3
   },
   "file_extension": ".py",
   "mimetype": "text/x-python",
   "name": "python",
   "nbconvert_exporter": "python",
   "pygments_lexer": "ipython3",
   "version": "3.10.13"
  }
 },
 "nbformat": 4,
 "nbformat_minor": 5
}
